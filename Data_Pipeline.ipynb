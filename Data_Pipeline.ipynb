{
 "cells": [
  {
   "cell_type": "code",
   "execution_count": 24,
   "id": "04d33b61",
   "metadata": {},
   "outputs": [],
   "source": [
    "from functions import *\n",
    "from pandasql import sqldf\n"
   ]
  },
  {
   "cell_type": "code",
   "execution_count": 25,
   "id": "a0276165",
   "metadata": {},
   "outputs": [],
   "source": [
    "# Enter the directory path containing XML files\n",
    "directory_path = '../tradebyte/ASR Appendix'\n"
   ]
  },
  {
   "cell_type": "code",
   "execution_count": 26,
   "id": "8a5f3d90",
   "metadata": {},
   "outputs": [],
   "source": [
    "## Converting xml files into stagging table\n",
    "Staging_table = DataIngestion(directory_path)\n",
    "\n",
    "## Pre processing data tables using different pre-processing steps\n",
    "Staging_table = PreProcessing(Staging_table)\n",
    "\n",
    "## Datatype conversion\n",
    "Staging_table = DataTypeConversion(Staging_table)\n",
    "\n",
    "## Converting Staging table to dimensions and fact tables to dump into data warehouse\n",
    "dim_retailer, dim_brand, dim_status, dim_accepted, fact_article = CovertArticleToFactandDim(Staging_table)\n",
    "\n",
    "### delete the staging table\n",
    "del Staging_table\n"
   ]
  },
  {
   "cell_type": "code",
   "execution_count": 27,
   "id": "af22786c",
   "metadata": {},
   "outputs": [
    {
     "data": {
      "text/html": [
       "<div>\n",
       "<style scoped>\n",
       "    .dataframe tbody tr th:only-of-type {\n",
       "        vertical-align: middle;\n",
       "    }\n",
       "\n",
       "    .dataframe tbody tr th {\n",
       "        vertical-align: top;\n",
       "    }\n",
       "\n",
       "    .dataframe thead th {\n",
       "        text-align: right;\n",
       "    }\n",
       "</style>\n",
       "<table border=\"1\" class=\"dataframe\">\n",
       "  <thead>\n",
       "    <tr style=\"text-align: right;\">\n",
       "      <th></th>\n",
       "      <th>retailerCode</th>\n",
       "      <th>retailerChannelCode</th>\n",
       "      <th>retailerKey</th>\n",
       "    </tr>\n",
       "  </thead>\n",
       "  <tbody>\n",
       "    <tr>\n",
       "      <th>0</th>\n",
       "      <td>tb</td>\n",
       "      <td>ES</td>\n",
       "      <td>1</td>\n",
       "    </tr>\n",
       "    <tr>\n",
       "      <th>1</th>\n",
       "      <td>tb</td>\n",
       "      <td>DE</td>\n",
       "      <td>2</td>\n",
       "    </tr>\n",
       "    <tr>\n",
       "      <th>2</th>\n",
       "      <td>tb</td>\n",
       "      <td>UK</td>\n",
       "      <td>3</td>\n",
       "    </tr>\n",
       "  </tbody>\n",
       "</table>\n",
       "</div>"
      ],
      "text/plain": [
       "  retailerCode retailerChannelCode  retailerKey\n",
       "0           tb                  ES            1\n",
       "1           tb                  DE            2\n",
       "2           tb                  UK            3"
      ]
     },
     "execution_count": 27,
     "metadata": {},
     "output_type": "execute_result"
    }
   ],
   "source": [
    "dim_retailer"
   ]
  },
  {
   "cell_type": "code",
   "execution_count": 28,
   "id": "512a14bc",
   "metadata": {},
   "outputs": [
    {
     "data": {
      "text/html": [
       "<div>\n",
       "<style scoped>\n",
       "    .dataframe tbody tr th:only-of-type {\n",
       "        vertical-align: middle;\n",
       "    }\n",
       "\n",
       "    .dataframe tbody tr th {\n",
       "        vertical-align: top;\n",
       "    }\n",
       "\n",
       "    .dataframe thead th {\n",
       "        text-align: right;\n",
       "    }\n",
       "</style>\n",
       "<table border=\"1\" class=\"dataframe\">\n",
       "  <thead>\n",
       "    <tr style=\"text-align: right;\">\n",
       "      <th></th>\n",
       "      <th>brandCode</th>\n",
       "      <th>brandKey</th>\n",
       "    </tr>\n",
       "  </thead>\n",
       "  <tbody>\n",
       "    <tr>\n",
       "      <th>0</th>\n",
       "      <td>brand1</td>\n",
       "      <td>1</td>\n",
       "    </tr>\n",
       "    <tr>\n",
       "      <th>1</th>\n",
       "      <td>brand2</td>\n",
       "      <td>2</td>\n",
       "    </tr>\n",
       "  </tbody>\n",
       "</table>\n",
       "</div>"
      ],
      "text/plain": [
       "  brandCode  brandKey\n",
       "0    brand1         1\n",
       "1    brand2         2"
      ]
     },
     "execution_count": 28,
     "metadata": {},
     "output_type": "execute_result"
    }
   ],
   "source": [
    "dim_brand"
   ]
  },
  {
   "cell_type": "code",
   "execution_count": 29,
   "id": "435bc01f",
   "metadata": {},
   "outputs": [
    {
     "data": {
      "text/html": [
       "<div>\n",
       "<style scoped>\n",
       "    .dataframe tbody tr th:only-of-type {\n",
       "        vertical-align: middle;\n",
       "    }\n",
       "\n",
       "    .dataframe tbody tr th {\n",
       "        vertical-align: top;\n",
       "    }\n",
       "\n",
       "    .dataframe thead th {\n",
       "        text-align: right;\n",
       "    }\n",
       "</style>\n",
       "<table border=\"1\" class=\"dataframe\">\n",
       "  <thead>\n",
       "    <tr style=\"text-align: right;\">\n",
       "      <th></th>\n",
       "      <th>statusCode</th>\n",
       "      <th>statusSupplementary</th>\n",
       "    </tr>\n",
       "  </thead>\n",
       "  <tbody>\n",
       "    <tr>\n",
       "      <th>0</th>\n",
       "      <td>9</td>\n",
       "      <td>Missingfabric</td>\n",
       "    </tr>\n",
       "    <tr>\n",
       "      <th>1</th>\n",
       "      <td>10</td>\n",
       "      <td>Missingimages</td>\n",
       "    </tr>\n",
       "  </tbody>\n",
       "</table>\n",
       "</div>"
      ],
      "text/plain": [
       "   statusCode statusSupplementary\n",
       "0           9       Missingfabric\n",
       "1          10       Missingimages"
      ]
     },
     "execution_count": 29,
     "metadata": {},
     "output_type": "execute_result"
    }
   ],
   "source": [
    "dim_status"
   ]
  },
  {
   "cell_type": "code",
   "execution_count": 30,
   "id": "cbe4c3f5",
   "metadata": {},
   "outputs": [
    {
     "data": {
      "text/html": [
       "<div>\n",
       "<style scoped>\n",
       "    .dataframe tbody tr th:only-of-type {\n",
       "        vertical-align: middle;\n",
       "    }\n",
       "\n",
       "    .dataframe tbody tr th {\n",
       "        vertical-align: top;\n",
       "    }\n",
       "\n",
       "    .dataframe thead th {\n",
       "        text-align: right;\n",
       "    }\n",
       "</style>\n",
       "<table border=\"1\" class=\"dataframe\">\n",
       "  <thead>\n",
       "    <tr style=\"text-align: right;\">\n",
       "      <th></th>\n",
       "      <th>accepted</th>\n",
       "      <th>acceptanceKey</th>\n",
       "    </tr>\n",
       "  </thead>\n",
       "  <tbody>\n",
       "    <tr>\n",
       "      <th>0</th>\n",
       "      <td>false</td>\n",
       "      <td>1</td>\n",
       "    </tr>\n",
       "    <tr>\n",
       "      <th>1</th>\n",
       "      <td>true</td>\n",
       "      <td>2</td>\n",
       "    </tr>\n",
       "  </tbody>\n",
       "</table>\n",
       "</div>"
      ],
      "text/plain": [
       "  accepted  acceptanceKey\n",
       "0    false              1\n",
       "1     true              2"
      ]
     },
     "execution_count": 30,
     "metadata": {},
     "output_type": "execute_result"
    }
   ],
   "source": [
    "dim_accepted"
   ]
  },
  {
   "cell_type": "code",
   "execution_count": 31,
   "id": "e96ba431",
   "metadata": {},
   "outputs": [
    {
     "data": {
      "text/html": [
       "<div>\n",
       "<style scoped>\n",
       "    .dataframe tbody tr th:only-of-type {\n",
       "        vertical-align: middle;\n",
       "    }\n",
       "\n",
       "    .dataframe tbody tr th {\n",
       "        vertical-align: top;\n",
       "    }\n",
       "\n",
       "    .dataframe thead th {\n",
       "        text-align: right;\n",
       "    }\n",
       "</style>\n",
       "<table border=\"1\" class=\"dataframe\">\n",
       "  <thead>\n",
       "    <tr style=\"text-align: right;\">\n",
       "      <th></th>\n",
       "      <th>retailerKey</th>\n",
       "      <th>brandKey</th>\n",
       "      <th>statusCode</th>\n",
       "      <th>acceptanceKey</th>\n",
       "      <th>tbArticleId</th>\n",
       "      <th>ean</th>\n",
       "    </tr>\n",
       "  </thead>\n",
       "  <tbody>\n",
       "    <tr>\n",
       "      <th>0</th>\n",
       "      <td>1</td>\n",
       "      <td>1</td>\n",
       "      <td>9</td>\n",
       "      <td>1</td>\n",
       "      <td>4525034</td>\n",
       "      <td>5054330675693</td>\n",
       "    </tr>\n",
       "    <tr>\n",
       "      <th>1</th>\n",
       "      <td>1</td>\n",
       "      <td>1</td>\n",
       "      <td>9</td>\n",
       "      <td>1</td>\n",
       "      <td>5634896</td>\n",
       "      <td>0888284792909</td>\n",
       "    </tr>\n",
       "    <tr>\n",
       "      <th>2</th>\n",
       "      <td>1</td>\n",
       "      <td>1</td>\n",
       "      <td>9</td>\n",
       "      <td>1</td>\n",
       "      <td>6094877</td>\n",
       "      <td>0888284791766</td>\n",
       "    </tr>\n",
       "    <tr>\n",
       "      <th>3</th>\n",
       "      <td>1</td>\n",
       "      <td>1</td>\n",
       "      <td>9</td>\n",
       "      <td>1</td>\n",
       "      <td>5634934</td>\n",
       "      <td>0888284793272</td>\n",
       "    </tr>\n",
       "    <tr>\n",
       "      <th>4</th>\n",
       "      <td>1</td>\n",
       "      <td>1</td>\n",
       "      <td>9</td>\n",
       "      <td>1</td>\n",
       "      <td>4525036</td>\n",
       "      <td>0191169291269</td>\n",
       "    </tr>\n",
       "    <tr>\n",
       "      <th>...</th>\n",
       "      <td>...</td>\n",
       "      <td>...</td>\n",
       "      <td>...</td>\n",
       "      <td>...</td>\n",
       "      <td>...</td>\n",
       "      <td>...</td>\n",
       "    </tr>\n",
       "    <tr>\n",
       "      <th>7926</th>\n",
       "      <td>3</td>\n",
       "      <td>1</td>\n",
       "      <td>10</td>\n",
       "      <td>1</td>\n",
       "      <td>6766198</td>\n",
       "      <td>0194512201557</td>\n",
       "    </tr>\n",
       "    <tr>\n",
       "      <th>7927</th>\n",
       "      <td>3</td>\n",
       "      <td>1</td>\n",
       "      <td>10</td>\n",
       "      <td>1</td>\n",
       "      <td>6766200</td>\n",
       "      <td>0194512200932</td>\n",
       "    </tr>\n",
       "    <tr>\n",
       "      <th>7928</th>\n",
       "      <td>3</td>\n",
       "      <td>1</td>\n",
       "      <td>10</td>\n",
       "      <td>1</td>\n",
       "      <td>6766202</td>\n",
       "      <td>0194512200109</td>\n",
       "    </tr>\n",
       "    <tr>\n",
       "      <th>7929</th>\n",
       "      <td>2</td>\n",
       "      <td>2</td>\n",
       "      <td>10</td>\n",
       "      <td>1</td>\n",
       "      <td>3560618</td>\n",
       "      <td>4059323377289</td>\n",
       "    </tr>\n",
       "    <tr>\n",
       "      <th>7930</th>\n",
       "      <td>2</td>\n",
       "      <td>2</td>\n",
       "      <td>10</td>\n",
       "      <td>1</td>\n",
       "      <td>3560620</td>\n",
       "      <td>4059323377371</td>\n",
       "    </tr>\n",
       "  </tbody>\n",
       "</table>\n",
       "<p>7931 rows × 6 columns</p>\n",
       "</div>"
      ],
      "text/plain": [
       "      retailerKey  brandKey  statusCode  acceptanceKey tbArticleId  \\\n",
       "0               1         1           9              1     4525034   \n",
       "1               1         1           9              1     5634896   \n",
       "2               1         1           9              1     6094877   \n",
       "3               1         1           9              1     5634934   \n",
       "4               1         1           9              1     4525036   \n",
       "...           ...       ...         ...            ...         ...   \n",
       "7926            3         1          10              1     6766198   \n",
       "7927            3         1          10              1     6766200   \n",
       "7928            3         1          10              1     6766202   \n",
       "7929            2         2          10              1     3560618   \n",
       "7930            2         2          10              1     3560620   \n",
       "\n",
       "                ean  \n",
       "0     5054330675693  \n",
       "1     0888284792909  \n",
       "2     0888284791766  \n",
       "3     0888284793272  \n",
       "4     0191169291269  \n",
       "...             ...  \n",
       "7926  0194512201557  \n",
       "7927  0194512200932  \n",
       "7928  0194512200109  \n",
       "7929  4059323377289  \n",
       "7930  4059323377371  \n",
       "\n",
       "[7931 rows x 6 columns]"
      ]
     },
     "execution_count": 31,
     "metadata": {},
     "output_type": "execute_result"
    }
   ],
   "source": [
    "fact_article"
   ]
  },
  {
   "cell_type": "code",
   "execution_count": 32,
   "id": "0a6e5f68",
   "metadata": {
    "scrolled": false
   },
   "outputs": [
    {
     "name": "stdout",
     "output_type": "stream",
     "text": [
      "   count(f.tbArticleId)\n",
      "0                    11\n"
     ]
    }
   ],
   "source": [
    "query = 'select count(f.tbArticleId) from fact_article f inner join dim_status s  on f.statusCode = s.statusCode inner join dim_brand b on f.brandKey = b.brandKey  where  s.statusSupplementary = \"Missingimages\" and b.brandKey = 2'\n",
    "# Execute the query using pandasql\n",
    "result = sqldf(query, globals())\n",
    "\n",
    "# Print the query result\n",
    "print(result)"
   ]
  },
  {
   "cell_type": "code",
   "execution_count": 23,
   "id": "9b02469b",
   "metadata": {},
   "outputs": [
    {
     "name": "stdout",
     "output_type": "stream",
     "text": [
      "   count(f.tbArticleId)\n",
      "0                     6\n"
     ]
    }
   ],
   "source": [
    "query = 'select count(f.tbArticleId) from fact_article f inner join dim_status s  on f.statusCode = s.statusCode inner join dim_retailer r on f.retailerKey = r.retailerKey  where  s.statusSupplementary = \"Missingimages\" and r.retailerKey = 3'\n",
    "# Execute the query using pandasql\n",
    "result = sqldf(query, globals())\n",
    "\n",
    "# Print the query result\n",
    "print(result)"
   ]
  },
  {
   "cell_type": "code",
   "execution_count": null,
   "id": "dab5fe43",
   "metadata": {},
   "outputs": [],
   "source": []
  }
 ],
 "metadata": {
  "kernelspec": {
   "display_name": "Python 3 (ipykernel)",
   "language": "python",
   "name": "python3"
  },
  "language_info": {
   "codemirror_mode": {
    "name": "ipython",
    "version": 3
   },
   "file_extension": ".py",
   "mimetype": "text/x-python",
   "name": "python",
   "nbconvert_exporter": "python",
   "pygments_lexer": "ipython3",
   "version": "3.11.4"
  }
 },
 "nbformat": 4,
 "nbformat_minor": 5
}
